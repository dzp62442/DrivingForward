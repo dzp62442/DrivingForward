{
 "cells": [
  {
   "cell_type": "code",
   "execution_count": null,
   "id": "05428888",
   "metadata": {},
   "outputs": [],
   "source": [
    "%load_ext autoreload\n",
    "%autoreload 2\n",
    "\n",
    "import utils\n",
    "from torch.utils.data import DataLoader\n",
    "from dataset import construct_dataset\n",
    "from models import DrivingForwardModel\n",
    "from utils.visualize import show_data\n",
    "\n",
    "cfg = utils.get_config('./configs/nuscenes/comp_svfgs.yaml', mode='eval', weight_path='./weights_SF', novel_view_mode='OS')\n",
    "cfg['eval']['eval_num_workers'] = 0\n",
    "print(cfg)\n",
    "\n",
    "model = DrivingForwardModel(cfg, 0)\n",
    "eval_dataloader = model.eval_dataloader()\n",
    "\n",
    "model.load_weights()\n",
    "model.set_eval()"
   ]
  },
  {
   "cell_type": "code",
   "execution_count": null,
   "id": "bea833d8",
   "metadata": {},
   "outputs": [],
   "source": [
    "for batch_idx, inputs in enumerate(eval_dataloader):\n",
    "    outputs, _ = model.process_batch(inputs, 0)\n",
    "    print(inputs.keys())\n",
    "    # show_data(inputs)\n",
    "    print('=======================================')\n",
    "    print(outputs.keys())\n",
    "    print(outputs[('cam', 0)].keys())\n",
    "    # show_data(outputs[('cam', 0)])\n",
    "    print(outputs[('cam', 0)][('cam_T_cam', 0, 0)])\n",
    "    print(outputs[('cam', 0)][('cam_T_cam', 0, 1)])\n",
    "    print(outputs[('cam', 0)][('cam_T_cam', 0, -1)])\n",
    "    break"
   ]
  }
 ],
 "metadata": {
  "kernelspec": {
   "display_name": "DrivingForward",
   "language": "python",
   "name": "python3"
  },
  "language_info": {
   "codemirror_mode": {
    "name": "ipython",
    "version": 3
   },
   "file_extension": ".py",
   "mimetype": "text/x-python",
   "name": "python",
   "nbconvert_exporter": "python",
   "pygments_lexer": "ipython3",
   "version": "3.8.20"
  }
 },
 "nbformat": 4,
 "nbformat_minor": 5
}
